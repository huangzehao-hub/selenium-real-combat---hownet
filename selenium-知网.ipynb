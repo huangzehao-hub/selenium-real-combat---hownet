{
 "cells": [
  {
   "cell_type": "markdown",
   "metadata": {},
   "source": [
    "# 前期准备"
   ]
  },
  {
   "cell_type": "code",
   "execution_count": 142,
   "metadata": {},
   "outputs": [],
   "source": [
    "import pandas as pd\n",
    "import numpy as np\n",
    "from lxml.html import fromstring\n",
    "import time\n",
    "from random import random\n",
    "import requests_html\n",
    "from requests_html import HTMLSession\n",
    "from selenium import webdriver\n",
    "from selenium.webdriver.common.desired_capabilities import DesiredCapabilities"
   ]
  },
  {
   "cell_type": "code",
   "execution_count": 143,
   "metadata": {},
   "outputs": [
    {
     "name": "stderr",
     "output_type": "stream",
     "text": [
      "<ipython-input-143-8cdc02b6dc2f>:14: DeprecationWarning: use options instead of chrome_options\n",
      "  driver = webdriver.Chrome( chrome_options = opts) #desired_capabilities=caps,\n"
     ]
    }
   ],
   "source": [
    "wd = webdriver.Chrome()\n",
    "wd.get(\"https://www.baidu.com\")\n",
    "opts = webdriver.ChromeOptions()\n",
    "opts.add_argument('--no-sandbox')#解决DevToolsActivePort文件不存在的报错\n",
    "opts.add_argument('window-size=1920x3000') #指定浏览器分辨率\n",
    "opts.add_argument('--disable-gpu') #谷歌文档提到需要加上一这个属性来规避bug\n",
    "opts.add_argument('--hide-scrollbars') #隐藏滚动条, 应对些特殊页面\n",
    "#opts.add_argument('blink-settings=imagesEnabled=false') #不加载图片, 提升速度\n",
    "#opts.add_argument('--headless') #浏览器不提供可视化页面. linux下如果系统不支持可视化不加这条会启动失败\n",
    "# opts.binary_location = \"C:\\portable\\PortableApps\\IronPortable\\App\\Iron\\chrome.exe\"\n",
    "# opts.binary_location = \"C:\\Program Files\\Google\\Chrome\\Application\\chromedriver.exe\" #\"H:\\_coding_\\Gitee\\InternetNewMedia\\CapstonePrj2016\\chromedriver.exe\"  \n",
    "\n",
    "\n",
    "driver = webdriver.Chrome( chrome_options = opts) #desired_capabilities=caps,"
   ]
  },
  {
   "cell_type": "markdown",
   "metadata": {},
   "source": [
    "# 登录知网"
   ]
  },
  {
   "cell_type": "code",
   "execution_count": 144,
   "metadata": {},
   "outputs": [],
   "source": [
    "driver.get(\"https://kns.cnki.net/\")"
   ]
  },
  {
   "cell_type": "code",
   "execution_count": 145,
   "metadata": {},
   "outputs": [],
   "source": [
    "element = driver.find_element_by_xpath('//*[@id=\"highSearch\"]')\n",
    "element.click()"
   ]
  },
  {
   "cell_type": "code",
   "execution_count": 146,
   "metadata": {},
   "outputs": [
    {
     "name": "stdout",
     "output_type": "stream",
     "text": [
      "['CDwindow-EF74A820E8601AC10589A998EF6B4CF8', 'CDwindow-7BD915171C3BB3AF949BD32A3DB46209']\n"
     ]
    }
   ],
   "source": [
    "print (driver.window_handles)"
   ]
  },
  {
   "cell_type": "code",
   "execution_count": 147,
   "metadata": {},
   "outputs": [
    {
     "name": "stderr",
     "output_type": "stream",
     "text": [
      "<ipython-input-147-6c6d5ce6602d>:1: DeprecationWarning: use driver.switch_to.window instead\n",
      "  driver.switch_to_window(driver.window_handles[1])\n"
     ]
    }
   ],
   "source": [
    "driver.switch_to_window(driver.window_handles[1])"
   ]
  },
  {
   "cell_type": "code",
   "execution_count": 148,
   "metadata": {},
   "outputs": [],
   "source": [
    "element = driver.find_element_by_xpath('/html/body/div[3]/div[1]/div/ul[1]/li[1]/a')\n",
    "element.click()"
   ]
  },
  {
   "cell_type": "markdown",
   "metadata": {},
   "source": [
    "# 进行检索"
   ]
  },
  {
   "cell_type": "code",
   "execution_count": 149,
   "metadata": {},
   "outputs": [],
   "source": [
    "# 点击专业检索\n",
    "element = driver.find_element_by_xpath('/html/body/div[2]/div/div[2]/ul/li[4]')\n",
    "element.click()"
   ]
  },
  {
   "cell_type": "code",
   "execution_count": 150,
   "metadata": {},
   "outputs": [],
   "source": [
    "#勾选期刊类型\n",
    "element = driver.find_element_by_xpath('/html/body/div[2]/div/div[2]/div/div[1]/div[1]/div[2]/div[1]/div[3]/div/label[2]/input')\n",
    "element.click()"
   ]
  },
  {
   "cell_type": "code",
   "execution_count": 151,
   "metadata": {},
   "outputs": [],
   "source": [
    "element = driver.find_element_by_xpath('/html/body/div[2]/div/div[2]/div/div[1]/div[1]/div[2]/div[1]/div[3]/div/label[4]/input')\n",
    "element.click()"
   ]
  },
  {
   "cell_type": "code",
   "execution_count": 152,
   "metadata": {},
   "outputs": [],
   "source": [
    "element = driver.find_element_by_xpath('/html/body/div[2]/div/div[2]/div/div[1]/div[1]/div[2]/div[1]/div[3]/div/label[5]/input')\n",
    "element.click()"
   ]
  },
  {
   "cell_type": "code",
   "execution_count": 153,
   "metadata": {},
   "outputs": [],
   "source": [
    "element = driver.find_element_by_xpath('/html/body/div[2]/div/div[2]/div/div[1]/div[1]/div[2]/div[1]/div[3]/div/label[6]/input')\n",
    "element.click()"
   ]
  },
  {
   "cell_type": "code",
   "execution_count": 154,
   "metadata": {},
   "outputs": [],
   "source": [
    "# AI_新媒体_query = '(SU=\"新媒体\" and SU=\"人工智能\") OR (SU=\"AI\" and SU=\"新媒体\")'\n",
    "AI_大数据_query = '( SU=\"大数据\" AND KY=\"人工智能\")'"
   ]
  },
  {
   "cell_type": "code",
   "execution_count": 155,
   "metadata": {},
   "outputs": [],
   "source": [
    "element = driver.find_element_by_xpath('/html/body/div[2]/div/div[2]/div/div[1]/div[1]/div[2]/textarea')\n",
    "element.clear()"
   ]
  },
  {
   "cell_type": "code",
   "execution_count": 156,
   "metadata": {},
   "outputs": [],
   "source": [
    "element = driver.find_element_by_xpath('/html/body/div[2]/div/div[2]/div/div[1]/div[1]/div[2]/textarea').send_keys(AI_大数据_query)"
   ]
  },
  {
   "cell_type": "code",
   "execution_count": 157,
   "metadata": {},
   "outputs": [],
   "source": [
    "#点击检索\n",
    "element = driver.find_element_by_xpath('/html/body/div[2]/div/div[2]/div/div[1]/div[1]/div[2]/div[2]/input')\n",
    "element.click()"
   ]
  },
  {
   "cell_type": "code",
   "execution_count": 158,
   "metadata": {},
   "outputs": [],
   "source": [
    "#50\n",
    "element = driver.find_element_by_xpath('/html/body/div[3]/div[2]/div[2]/div[2]/form/div/div[1]/div[2]/div[2]/div/div/div/i')\n",
    "element.click()"
   ]
  },
  {
   "cell_type": "code",
   "execution_count": 159,
   "metadata": {},
   "outputs": [],
   "source": [
    "element = driver.find_element_by_xpath('/html/body/div[3]/div[2]/div[2]/div[2]/form/div/div[1]/div[2]/div[2]/div/div/ul/li[3]/a')\n",
    "element.click()"
   ]
  },
  {
   "cell_type": "code",
   "execution_count": 160,
   "metadata": {
    "scrolled": true
   },
   "outputs": [
    {
     "data": {
      "text/html": [
       "<div>\n",
       "<style scoped>\n",
       "    .dataframe tbody tr th:only-of-type {\n",
       "        vertical-align: middle;\n",
       "    }\n",
       "\n",
       "    .dataframe tbody tr th {\n",
       "        vertical-align: top;\n",
       "    }\n",
       "\n",
       "    .dataframe thead th {\n",
       "        text-align: right;\n",
       "    }\n",
       "</style>\n",
       "<table border=\"1\" class=\"dataframe\">\n",
       "  <thead>\n",
       "    <tr style=\"text-align: right;\">\n",
       "      <th></th>\n",
       "      <th>Unnamed: 0</th>\n",
       "      <th>篇名</th>\n",
       "      <th>作者</th>\n",
       "      <th>刊名</th>\n",
       "      <th>发表时间</th>\n",
       "      <th>被引</th>\n",
       "      <th>下载</th>\n",
       "      <th>操作</th>\n",
       "    </tr>\n",
       "  </thead>\n",
       "  <tbody>\n",
       "    <tr>\n",
       "      <th>0</th>\n",
       "      <td>1</td>\n",
       "      <td>科学数据智能:人工智能在科学发现中的机遇与挑战  网络首发</td>\n",
       "      <td>孟小峰</td>\n",
       "      <td>中国科学基金</td>\n",
       "      <td>2021-06-11 18:01</td>\n",
       "      <td>NaN</td>\n",
       "      <td>NaN</td>\n",
       "      <td>下载</td>\n",
       "    </tr>\n",
       "    <tr>\n",
       "      <th>1</th>\n",
       "      <td>2</td>\n",
       "      <td>测绘大数据时代数据处理理论面临的挑战与发展  网络首发</td>\n",
       "      <td>朱建军; 宋迎春; 胡俊; 邹滨; 吴立新</td>\n",
       "      <td>武汉大学学报(信息科学版)</td>\n",
       "      <td>2021-06-09 10:26</td>\n",
       "      <td>NaN</td>\n",
       "      <td>NaN</td>\n",
       "      <td>下载</td>\n",
       "    </tr>\n",
       "    <tr>\n",
       "      <th>2</th>\n",
       "      <td>3</td>\n",
       "      <td>人工智能助推教师队伍建设途径与方法研究</td>\n",
       "      <td>钟绍春; 钟卓; 张琢</td>\n",
       "      <td>中国电化教育</td>\n",
       "      <td>2021-06-08</td>\n",
       "      <td>NaN</td>\n",
       "      <td>72.0</td>\n",
       "      <td>下载</td>\n",
       "    </tr>\n",
       "    <tr>\n",
       "      <th>3</th>\n",
       "      <td>4</td>\n",
       "      <td>数字化行政方式的权力正当性检视</td>\n",
       "      <td>展鹏贺</td>\n",
       "      <td>中国法学</td>\n",
       "      <td>2021-06-07</td>\n",
       "      <td>NaN</td>\n",
       "      <td>117.0</td>\n",
       "      <td>下载</td>\n",
       "    </tr>\n",
       "    <tr>\n",
       "      <th>4</th>\n",
       "      <td>5</td>\n",
       "      <td>人工智能钻井技术研究方法及其实践  网络首发</td>\n",
       "      <td>杨传书; 李昌盛; 孙旭东; 黄历铭; 张好林</td>\n",
       "      <td>石油钻探技术</td>\n",
       "      <td>2021-06-04 10:36</td>\n",
       "      <td>NaN</td>\n",
       "      <td>139.0</td>\n",
       "      <td>下载</td>\n",
       "    </tr>\n",
       "    <tr>\n",
       "      <th>5</th>\n",
       "      <td>6</td>\n",
       "      <td>城市大脑：城市管理创新的智慧工具  网络首发</td>\n",
       "      <td>陆军</td>\n",
       "      <td>人民论坛·学术前沿</td>\n",
       "      <td>2021-06-03 15:38</td>\n",
       "      <td>NaN</td>\n",
       "      <td>286.0</td>\n",
       "      <td>下载</td>\n",
       "    </tr>\n",
       "    <tr>\n",
       "      <th>6</th>\n",
       "      <td>7</td>\n",
       "      <td>健康中国战略下保险科技赋能商业健康保险发展研究  网络首发</td>\n",
       "      <td>胡芳; 彭琛; 陈小红</td>\n",
       "      <td>西南金融</td>\n",
       "      <td>2021-06-01 16:20</td>\n",
       "      <td>NaN</td>\n",
       "      <td>199.0</td>\n",
       "      <td>下载</td>\n",
       "    </tr>\n",
       "    <tr>\n",
       "      <th>7</th>\n",
       "      <td>8</td>\n",
       "      <td>人工智能视域下现代教育治理的赋能与重塑</td>\n",
       "      <td>刘尧</td>\n",
       "      <td>教学与管理</td>\n",
       "      <td>2021-05-31</td>\n",
       "      <td>NaN</td>\n",
       "      <td>296.0</td>\n",
       "      <td>下载</td>\n",
       "    </tr>\n",
       "    <tr>\n",
       "      <th>8</th>\n",
       "      <td>9</td>\n",
       "      <td>ABC时代人机结合的会计智能化路径研究</td>\n",
       "      <td>罗莉; 刘永春</td>\n",
       "      <td>会计之友</td>\n",
       "      <td>2021-05-26 17:44</td>\n",
       "      <td>NaN</td>\n",
       "      <td>147.0</td>\n",
       "      <td>下载</td>\n",
       "    </tr>\n",
       "    <tr>\n",
       "      <th>9</th>\n",
       "      <td>10</td>\n",
       "      <td>新一代AI技术赋能高校财务智慧升维研究</td>\n",
       "      <td>戴建青</td>\n",
       "      <td>会计之友</td>\n",
       "      <td>2021-05-26 15:09</td>\n",
       "      <td>NaN</td>\n",
       "      <td>105.0</td>\n",
       "      <td>下载</td>\n",
       "    </tr>\n",
       "    <tr>\n",
       "      <th>10</th>\n",
       "      <td>11</td>\n",
       "      <td>中医药超分子“气析”理论的“智能”属性阐释及其与人工智能联合应用  网络首发</td>\n",
       "      <td>李海英;邓凯文;潘雪;陈定芳;吴月峰</td>\n",
       "      <td>中国实验方剂学杂志</td>\n",
       "      <td>2021-05-26 09:30</td>\n",
       "      <td>NaN</td>\n",
       "      <td>38.0</td>\n",
       "      <td>下载</td>\n",
       "    </tr>\n",
       "    <tr>\n",
       "      <th>11</th>\n",
       "      <td>12</td>\n",
       "      <td>厂商运用大数据和人工智能的经济学分析</td>\n",
       "      <td>何大安</td>\n",
       "      <td>上海师范大学学报(哲学社会科学版)</td>\n",
       "      <td>2021-05-25</td>\n",
       "      <td>NaN</td>\n",
       "      <td>249.0</td>\n",
       "      <td>下载</td>\n",
       "    </tr>\n",
       "    <tr>\n",
       "      <th>12</th>\n",
       "      <td>13</td>\n",
       "      <td>治理创新视角下公共管理的变革</td>\n",
       "      <td>王鹏; 丁立江; 魏必</td>\n",
       "      <td>晋阳学刊</td>\n",
       "      <td>2021-05-25</td>\n",
       "      <td>NaN</td>\n",
       "      <td>104.0</td>\n",
       "      <td>下载</td>\n",
       "    </tr>\n",
       "    <tr>\n",
       "      <th>13</th>\n",
       "      <td>14</td>\n",
       "      <td>论人工智能时代思想政治教育的“变”与“不变”</td>\n",
       "      <td>崔建西</td>\n",
       "      <td>思想教育研究</td>\n",
       "      <td>2021-05-25</td>\n",
       "      <td>NaN</td>\n",
       "      <td>NaN</td>\n",
       "      <td>下载</td>\n",
       "    </tr>\n",
       "    <tr>\n",
       "      <th>14</th>\n",
       "      <td>15</td>\n",
       "      <td>新技术赋能市场监管智能化：图景、障碍与进路</td>\n",
       "      <td>王湘军; 庞尚尚</td>\n",
       "      <td>行政论坛</td>\n",
       "      <td>2021-05-25</td>\n",
       "      <td>NaN</td>\n",
       "      <td>24.0</td>\n",
       "      <td>下载</td>\n",
       "    </tr>\n",
       "    <tr>\n",
       "      <th>15</th>\n",
       "      <td>16</td>\n",
       "      <td>打造教育人工智能大脑:教育数据中台技术实现路径</td>\n",
       "      <td>李爱霞; 舒杭; 顾小清</td>\n",
       "      <td>开放教育研究</td>\n",
       "      <td>2021-05-24</td>\n",
       "      <td>NaN</td>\n",
       "      <td>283.0</td>\n",
       "      <td>下载</td>\n",
       "    </tr>\n",
       "    <tr>\n",
       "      <th>16</th>\n",
       "      <td>17</td>\n",
       "      <td>人工智能嵌入预测警务的法律风险及其预防  网络首发</td>\n",
       "      <td>沈国琴; 齐小力</td>\n",
       "      <td>广西社会科学</td>\n",
       "      <td>2021-05-18 13:30</td>\n",
       "      <td>NaN</td>\n",
       "      <td>125.0</td>\n",
       "      <td>下载</td>\n",
       "    </tr>\n",
       "    <tr>\n",
       "      <th>17</th>\n",
       "      <td>18</td>\n",
       "      <td>人工智能嵌入预测警务的法律风险及其预防</td>\n",
       "      <td>沈国琴; 齐小力</td>\n",
       "      <td>广西社会科学</td>\n",
       "      <td>2021-05-18 13:30</td>\n",
       "      <td>NaN</td>\n",
       "      <td>NaN</td>\n",
       "      <td>下载</td>\n",
       "    </tr>\n",
       "    <tr>\n",
       "      <th>18</th>\n",
       "      <td>19</td>\n",
       "      <td>信息技术伦理研究的国际进展  网络首发</td>\n",
       "      <td>李燕; 王雪梅</td>\n",
       "      <td>世界科技研究与发展</td>\n",
       "      <td>2021-05-18 10:08</td>\n",
       "      <td>NaN</td>\n",
       "      <td>221.0</td>\n",
       "      <td>下载</td>\n",
       "    </tr>\n",
       "    <tr>\n",
       "      <th>19</th>\n",
       "      <td>20</td>\n",
       "      <td>人工智能的过去、现在和未来  网络首发</td>\n",
       "      <td>答凯艳</td>\n",
       "      <td>系统科学学报</td>\n",
       "      <td>2021-05-18 09:34</td>\n",
       "      <td>NaN</td>\n",
       "      <td>1073.0</td>\n",
       "      <td>下载</td>\n",
       "    </tr>\n",
       "    <tr>\n",
       "      <th>20</th>\n",
       "      <td>21</td>\n",
       "      <td>中国遥感软件研制进展与发展方向——以像素专家PIE为例</td>\n",
       "      <td>刘东升; 廖通逵; 孙焕英; 任芳</td>\n",
       "      <td>中国图象图形学报</td>\n",
       "      <td>2021-05-16</td>\n",
       "      <td>NaN</td>\n",
       "      <td>81.0</td>\n",
       "      <td>下载</td>\n",
       "    </tr>\n",
       "    <tr>\n",
       "      <th>21</th>\n",
       "      <td>22</td>\n",
       "      <td>计算法学的疆域</td>\n",
       "      <td>季卫东</td>\n",
       "      <td>社会科学辑刊</td>\n",
       "      <td>2021-05-15</td>\n",
       "      <td>NaN</td>\n",
       "      <td>169.0</td>\n",
       "      <td>下载</td>\n",
       "    </tr>\n",
       "    <tr>\n",
       "      <th>22</th>\n",
       "      <td>23</td>\n",
       "      <td>面向人工智能时代的智慧警务</td>\n",
       "      <td>陈潭; 王鹏</td>\n",
       "      <td>学习论坛</td>\n",
       "      <td>2021-05-15</td>\n",
       "      <td>NaN</td>\n",
       "      <td>166.0</td>\n",
       "      <td>下载</td>\n",
       "    </tr>\n",
       "    <tr>\n",
       "      <th>23</th>\n",
       "      <td>24</td>\n",
       "      <td>企业文档智能化管理跃迁的依据与方向初探</td>\n",
       "      <td>李喆; 曾静怡; 邱杰峰</td>\n",
       "      <td>档案管理</td>\n",
       "      <td>2021-05-15</td>\n",
       "      <td>NaN</td>\n",
       "      <td>20.0</td>\n",
       "      <td>下载</td>\n",
       "    </tr>\n",
       "    <tr>\n",
       "      <th>24</th>\n",
       "      <td>25</td>\n",
       "      <td>大数据技术视域下智慧图书馆伦理危机与控制研究</td>\n",
       "      <td>陆康; 刘慧; 曹畋</td>\n",
       "      <td>高校图书馆工作</td>\n",
       "      <td>2021-05-15</td>\n",
       "      <td>NaN</td>\n",
       "      <td>76.0</td>\n",
       "      <td>下载</td>\n",
       "    </tr>\n",
       "    <tr>\n",
       "      <th>25</th>\n",
       "      <td>26</td>\n",
       "      <td>中国数字经济现状及未来发展</td>\n",
       "      <td>何大安</td>\n",
       "      <td>治理研究</td>\n",
       "      <td>2021-05-15</td>\n",
       "      <td>NaN</td>\n",
       "      <td>496.0</td>\n",
       "      <td>下载</td>\n",
       "    </tr>\n",
       "    <tr>\n",
       "      <th>26</th>\n",
       "      <td>27</td>\n",
       "      <td>环境分权体制下人工智能对环境污染治理的影响</td>\n",
       "      <td>张伟; 李国祥</td>\n",
       "      <td>陕西师范大学学报(哲学社会科学版)</td>\n",
       "      <td>2021-05-15</td>\n",
       "      <td>NaN</td>\n",
       "      <td>17.0</td>\n",
       "      <td>下载</td>\n",
       "    </tr>\n",
       "    <tr>\n",
       "      <th>27</th>\n",
       "      <td>28</td>\n",
       "      <td>文艺批评：人工智能及其挑战</td>\n",
       "      <td>刘建平</td>\n",
       "      <td>学术界</td>\n",
       "      <td>2021-05-15</td>\n",
       "      <td>NaN</td>\n",
       "      <td>NaN</td>\n",
       "      <td>下载</td>\n",
       "    </tr>\n",
       "    <tr>\n",
       "      <th>28</th>\n",
       "      <td>29</td>\n",
       "      <td>国家治理的智能化转向及其实施进路</td>\n",
       "      <td>陈鹏</td>\n",
       "      <td>探索</td>\n",
       "      <td>2021-05-15</td>\n",
       "      <td>NaN</td>\n",
       "      <td>NaN</td>\n",
       "      <td>下载</td>\n",
       "    </tr>\n",
       "    <tr>\n",
       "      <th>29</th>\n",
       "      <td>30</td>\n",
       "      <td>人工智能深度介入消费金融：动因、风险及防控</td>\n",
       "      <td>程雪军</td>\n",
       "      <td>深圳大学学报(人文社会科学版)</td>\n",
       "      <td>2021-05-14</td>\n",
       "      <td>NaN</td>\n",
       "      <td>366.0</td>\n",
       "      <td>下载</td>\n",
       "    </tr>\n",
       "    <tr>\n",
       "      <th>30</th>\n",
       "      <td>31</td>\n",
       "      <td>大数据时代下基于象思维的中医状态辨识</td>\n",
       "      <td>李明珠; 陈谦峰; 任朝莹; 王章林; 李灿东</td>\n",
       "      <td>中医杂志</td>\n",
       "      <td>2021-05-14</td>\n",
       "      <td>NaN</td>\n",
       "      <td>233.0</td>\n",
       "      <td>下载</td>\n",
       "    </tr>\n",
       "    <tr>\n",
       "      <th>31</th>\n",
       "      <td>32</td>\n",
       "      <td>再论智能煤矿建设路线：人工智能3.0视角  网络首发</td>\n",
       "      <td>胡青松; 钱建生; 李世银; 孙彦景</td>\n",
       "      <td>煤炭科学技术</td>\n",
       "      <td>2021-05-12 14:49</td>\n",
       "      <td>NaN</td>\n",
       "      <td>106.0</td>\n",
       "      <td>下载</td>\n",
       "    </tr>\n",
       "    <tr>\n",
       "      <th>32</th>\n",
       "      <td>33</td>\n",
       "      <td>财务欺诈风险特征筛选框架的建立和应用  网络首发</td>\n",
       "      <td>袁先智;周云鹏;严诚幸;刘海洋;钱国骐</td>\n",
       "      <td>中国管理科学</td>\n",
       "      <td>2021-05-11 09:35</td>\n",
       "      <td>NaN</td>\n",
       "      <td>242.0</td>\n",
       "      <td>下载</td>\n",
       "    </tr>\n",
       "    <tr>\n",
       "      <th>33</th>\n",
       "      <td>34</td>\n",
       "      <td>视觉图灵：从人机对抗看计算机视觉下一步发展  网络首发</td>\n",
       "      <td>黄凯奇; 赵鑫; 李乔哲; 胡世宇</td>\n",
       "      <td>图学学报</td>\n",
       "      <td>2021-05-08 14:47</td>\n",
       "      <td>NaN</td>\n",
       "      <td>399.0</td>\n",
       "      <td>下载</td>\n",
       "    </tr>\n",
       "    <tr>\n",
       "      <th>34</th>\n",
       "      <td>35</td>\n",
       "      <td>大数据与人工智能环境下“一主三辅”情报研究工作模式  网络首发</td>\n",
       "      <td>梁春华</td>\n",
       "      <td>情报理论与实践</td>\n",
       "      <td>2021-05-08 11:00</td>\n",
       "      <td>NaN</td>\n",
       "      <td>187.0</td>\n",
       "      <td>下载</td>\n",
       "    </tr>\n",
       "    <tr>\n",
       "      <th>35</th>\n",
       "      <td>36</td>\n",
       "      <td>人工智能赋能下社区智慧养老服务模式及关键技术研究</td>\n",
       "      <td>邢珍珍</td>\n",
       "      <td>护理研究</td>\n",
       "      <td>2021-05-08</td>\n",
       "      <td>NaN</td>\n",
       "      <td>945.0</td>\n",
       "      <td>下载</td>\n",
       "    </tr>\n",
       "    <tr>\n",
       "      <th>36</th>\n",
       "      <td>37</td>\n",
       "      <td>后疫情时代教育创新发展的新视域与中国卓越探索——出席“2020全球人工智能与教育大数据大会”的思考</td>\n",
       "      <td>陈丽; 任萍萍; 张文梅</td>\n",
       "      <td>中国电化教育</td>\n",
       "      <td>2021-05-08</td>\n",
       "      <td>NaN</td>\n",
       "      <td>961.0</td>\n",
       "      <td>下载</td>\n",
       "    </tr>\n",
       "    <tr>\n",
       "      <th>37</th>\n",
       "      <td>38</td>\n",
       "      <td>数字孪生技术的教育应用研究</td>\n",
       "      <td>张枝实</td>\n",
       "      <td>成人教育</td>\n",
       "      <td>2021-05-07</td>\n",
       "      <td>NaN</td>\n",
       "      <td>279.0</td>\n",
       "      <td>下载</td>\n",
       "    </tr>\n",
       "    <tr>\n",
       "      <th>38</th>\n",
       "      <td>39</td>\n",
       "      <td>算法歧视的成因及治理路径</td>\n",
       "      <td>韩勇</td>\n",
       "      <td>青年记者</td>\n",
       "      <td>2021-04-30</td>\n",
       "      <td>NaN</td>\n",
       "      <td>103.0</td>\n",
       "      <td>下载</td>\n",
       "    </tr>\n",
       "    <tr>\n",
       "      <th>39</th>\n",
       "      <td>40</td>\n",
       "      <td>新技术条件下的博物馆智慧服务设计策略</td>\n",
       "      <td>徐延章</td>\n",
       "      <td>东南文化</td>\n",
       "      <td>2021-04-30</td>\n",
       "      <td>NaN</td>\n",
       "      <td>51.0</td>\n",
       "      <td>下载</td>\n",
       "    </tr>\n",
       "    <tr>\n",
       "      <th>40</th>\n",
       "      <td>41</td>\n",
       "      <td>信任视角下数据智能与专家知识的对比实证研究  网络首发</td>\n",
       "      <td>刘坤锋; 李艳红; 张心源</td>\n",
       "      <td>图书情报工作</td>\n",
       "      <td>2021-04-26 09:07</td>\n",
       "      <td>NaN</td>\n",
       "      <td>67.0</td>\n",
       "      <td>下载</td>\n",
       "    </tr>\n",
       "    <tr>\n",
       "      <th>41</th>\n",
       "      <td>42</td>\n",
       "      <td>大国博弈背景下的新时代国防科技情报转型发展研究</td>\n",
       "      <td>刘宗毅; 谢珊珊; 莫中秋; 孙碧娇</td>\n",
       "      <td>情报理论与实践</td>\n",
       "      <td>2021-04-26</td>\n",
       "      <td>NaN</td>\n",
       "      <td>162.0</td>\n",
       "      <td>下载</td>\n",
       "    </tr>\n",
       "    <tr>\n",
       "      <th>42</th>\n",
       "      <td>43</td>\n",
       "      <td>刍议推动科技期刊创新发展的7大科技趋势</td>\n",
       "      <td>沈锡宾;刘红霞;王海娟;朱瑶;袁庆</td>\n",
       "      <td>编辑学报</td>\n",
       "      <td>2021-04-22</td>\n",
       "      <td>NaN</td>\n",
       "      <td>110.0</td>\n",
       "      <td>下载</td>\n",
       "    </tr>\n",
       "    <tr>\n",
       "      <th>43</th>\n",
       "      <td>44</td>\n",
       "      <td>机床智能控制系统体系架构及关键技术研究进展  网络首发</td>\n",
       "      <td>孟博洋;李茂月;刘献礼;WANG Lihui;LIANG S Y</td>\n",
       "      <td>机械工程学报</td>\n",
       "      <td>2021-04-21 13:35</td>\n",
       "      <td>NaN</td>\n",
       "      <td>285.0</td>\n",
       "      <td>下载</td>\n",
       "    </tr>\n",
       "    <tr>\n",
       "      <th>44</th>\n",
       "      <td>45</td>\n",
       "      <td>替代或互补:人工智能应用管理对创新的影响</td>\n",
       "      <td>杨祎; 刘嫣然; 李垣</td>\n",
       "      <td>科研管理</td>\n",
       "      <td>2021-04-20</td>\n",
       "      <td>NaN</td>\n",
       "      <td>311.0</td>\n",
       "      <td>下载</td>\n",
       "    </tr>\n",
       "    <tr>\n",
       "      <th>45</th>\n",
       "      <td>46</td>\n",
       "      <td>基于大数据挖掘的矿井旋转机械状态评估系统</td>\n",
       "      <td>李新虎</td>\n",
       "      <td>电子器件</td>\n",
       "      <td>2021-04-20</td>\n",
       "      <td>NaN</td>\n",
       "      <td>22.0</td>\n",
       "      <td>下载</td>\n",
       "    </tr>\n",
       "    <tr>\n",
       "      <th>46</th>\n",
       "      <td>47</td>\n",
       "      <td>我国义务教育阶段学生学习评价模式的困境及超越</td>\n",
       "      <td>赵上宁; 史大胜</td>\n",
       "      <td>教育理论与实践</td>\n",
       "      <td>2021-04-20</td>\n",
       "      <td>NaN</td>\n",
       "      <td>36.0</td>\n",
       "      <td>下载</td>\n",
       "    </tr>\n",
       "    <tr>\n",
       "      <th>47</th>\n",
       "      <td>48</td>\n",
       "      <td>智能技术时代的教学理论发展</td>\n",
       "      <td>罗生全</td>\n",
       "      <td>教育研究与实验</td>\n",
       "      <td>2021-04-20</td>\n",
       "      <td>NaN</td>\n",
       "      <td>37.0</td>\n",
       "      <td>下载</td>\n",
       "    </tr>\n",
       "    <tr>\n",
       "      <th>48</th>\n",
       "      <td>49</td>\n",
       "      <td>综合管廊运维目标、原则及新技术应用</td>\n",
       "      <td>许云骅; 金善朝; 徐浩煜</td>\n",
       "      <td>中国给水排水</td>\n",
       "      <td>2021-04-17</td>\n",
       "      <td>NaN</td>\n",
       "      <td>25.0</td>\n",
       "      <td>下载</td>\n",
       "    </tr>\n",
       "    <tr>\n",
       "      <th>49</th>\n",
       "      <td>50</td>\n",
       "      <td>针灸与人工智能学科交叉的现状与策略探讨  网络首发</td>\n",
       "      <td>吴冬;孙汉旭;荣培晶;戴如君;廉海红</td>\n",
       "      <td>针刺研究</td>\n",
       "      <td>2021-04-16 16:52</td>\n",
       "      <td>NaN</td>\n",
       "      <td>344.0</td>\n",
       "      <td>下载</td>\n",
       "    </tr>\n",
       "  </tbody>\n",
       "</table>\n",
       "</div>"
      ],
      "text/plain": [
       "    Unnamed: 0                                                 篇名  \\\n",
       "0            1                      科学数据智能:人工智能在科学发现中的机遇与挑战  网络首发   \n",
       "1            2                        测绘大数据时代数据处理理论面临的挑战与发展  网络首发   \n",
       "2            3                                人工智能助推教师队伍建设途径与方法研究   \n",
       "3            4                                    数字化行政方式的权力正当性检视   \n",
       "4            5                             人工智能钻井技术研究方法及其实践  网络首发   \n",
       "5            6                             城市大脑：城市管理创新的智慧工具  网络首发   \n",
       "6            7                      健康中国战略下保险科技赋能商业健康保险发展研究  网络首发   \n",
       "7            8                                人工智能视域下现代教育治理的赋能与重塑   \n",
       "8            9                                ABC时代人机结合的会计智能化路径研究   \n",
       "9           10                                新一代AI技术赋能高校财务智慧升维研究   \n",
       "10          11             中医药超分子“气析”理论的“智能”属性阐释及其与人工智能联合应用  网络首发   \n",
       "11          12                                 厂商运用大数据和人工智能的经济学分析   \n",
       "12          13                                     治理创新视角下公共管理的变革   \n",
       "13          14                             论人工智能时代思想政治教育的“变”与“不变”   \n",
       "14          15                              新技术赋能市场监管智能化：图景、障碍与进路   \n",
       "15          16                            打造教育人工智能大脑:教育数据中台技术实现路径   \n",
       "16          17                          人工智能嵌入预测警务的法律风险及其预防  网络首发   \n",
       "17          18                                人工智能嵌入预测警务的法律风险及其预防   \n",
       "18          19                                信息技术伦理研究的国际进展  网络首发   \n",
       "19          20                                人工智能的过去、现在和未来  网络首发   \n",
       "20          21                        中国遥感软件研制进展与发展方向——以像素专家PIE为例   \n",
       "21          22                                            计算法学的疆域   \n",
       "22          23                                      面向人工智能时代的智慧警务   \n",
       "23          24                                企业文档智能化管理跃迁的依据与方向初探   \n",
       "24          25                             大数据技术视域下智慧图书馆伦理危机与控制研究   \n",
       "25          26                                      中国数字经济现状及未来发展   \n",
       "26          27                              环境分权体制下人工智能对环境污染治理的影响   \n",
       "27          28                                      文艺批评：人工智能及其挑战   \n",
       "28          29                                   国家治理的智能化转向及其实施进路   \n",
       "29          30                              人工智能深度介入消费金融：动因、风险及防控   \n",
       "30          31                                 大数据时代下基于象思维的中医状态辨识   \n",
       "31          32                         再论智能煤矿建设路线：人工智能3.0视角  网络首发   \n",
       "32          33                           财务欺诈风险特征筛选框架的建立和应用  网络首发   \n",
       "33          34                        视觉图灵：从人机对抗看计算机视觉下一步发展  网络首发   \n",
       "34          35                    大数据与人工智能环境下“一主三辅”情报研究工作模式  网络首发   \n",
       "35          36                           人工智能赋能下社区智慧养老服务模式及关键技术研究   \n",
       "36          37  后疫情时代教育创新发展的新视域与中国卓越探索——出席“2020全球人工智能与教育大数据大会”的思考   \n",
       "37          38                                      数字孪生技术的教育应用研究   \n",
       "38          39                                       算法歧视的成因及治理路径   \n",
       "39          40                                 新技术条件下的博物馆智慧服务设计策略   \n",
       "40          41                        信任视角下数据智能与专家知识的对比实证研究  网络首发   \n",
       "41          42                            大国博弈背景下的新时代国防科技情报转型发展研究   \n",
       "42          43                                刍议推动科技期刊创新发展的7大科技趋势   \n",
       "43          44                        机床智能控制系统体系架构及关键技术研究进展  网络首发   \n",
       "44          45                               替代或互补:人工智能应用管理对创新的影响   \n",
       "45          46                               基于大数据挖掘的矿井旋转机械状态评估系统   \n",
       "46          47                             我国义务教育阶段学生学习评价模式的困境及超越   \n",
       "47          48                                      智能技术时代的教学理论发展   \n",
       "48          49                                  综合管廊运维目标、原则及新技术应用   \n",
       "49          50                          针灸与人工智能学科交叉的现状与策略探讨  网络首发   \n",
       "\n",
       "                                  作者                 刊名              发表时间  被引  \\\n",
       "0                                孟小峰             中国科学基金  2021-06-11 18:01 NaN   \n",
       "1              朱建军; 宋迎春; 胡俊; 邹滨; 吴立新      武汉大学学报(信息科学版)  2021-06-09 10:26 NaN   \n",
       "2                        钟绍春; 钟卓; 张琢             中国电化教育        2021-06-08 NaN   \n",
       "3                                展鹏贺               中国法学        2021-06-07 NaN   \n",
       "4            杨传书; 李昌盛; 孙旭东; 黄历铭; 张好林             石油钻探技术  2021-06-04 10:36 NaN   \n",
       "5                                 陆军          人民论坛·学术前沿  2021-06-03 15:38 NaN   \n",
       "6                        胡芳; 彭琛; 陈小红               西南金融  2021-06-01 16:20 NaN   \n",
       "7                                 刘尧              教学与管理        2021-05-31 NaN   \n",
       "8                            罗莉; 刘永春               会计之友  2021-05-26 17:44 NaN   \n",
       "9                                戴建青               会计之友  2021-05-26 15:09 NaN   \n",
       "10                李海英;邓凯文;潘雪;陈定芳;吴月峰          中国实验方剂学杂志  2021-05-26 09:30 NaN   \n",
       "11                               何大安  上海师范大学学报(哲学社会科学版)        2021-05-25 NaN   \n",
       "12                       王鹏; 丁立江; 魏必               晋阳学刊        2021-05-25 NaN   \n",
       "13                               崔建西             思想教育研究        2021-05-25 NaN   \n",
       "14                          王湘军; 庞尚尚               行政论坛        2021-05-25 NaN   \n",
       "15                      李爱霞; 舒杭; 顾小清             开放教育研究        2021-05-24 NaN   \n",
       "16                          沈国琴; 齐小力             广西社会科学  2021-05-18 13:30 NaN   \n",
       "17                          沈国琴; 齐小力             广西社会科学  2021-05-18 13:30 NaN   \n",
       "18                           李燕; 王雪梅          世界科技研究与发展  2021-05-18 10:08 NaN   \n",
       "19                               答凯艳             系统科学学报  2021-05-18 09:34 NaN   \n",
       "20                 刘东升; 廖通逵; 孙焕英; 任芳           中国图象图形学报        2021-05-16 NaN   \n",
       "21                               季卫东             社会科学辑刊        2021-05-15 NaN   \n",
       "22                            陈潭; 王鹏               学习论坛        2021-05-15 NaN   \n",
       "23                      李喆; 曾静怡; 邱杰峰               档案管理        2021-05-15 NaN   \n",
       "24                        陆康; 刘慧; 曹畋            高校图书馆工作        2021-05-15 NaN   \n",
       "25                               何大安               治理研究        2021-05-15 NaN   \n",
       "26                           张伟; 李国祥  陕西师范大学学报(哲学社会科学版)        2021-05-15 NaN   \n",
       "27                               刘建平                学术界        2021-05-15 NaN   \n",
       "28                                陈鹏                 探索        2021-05-15 NaN   \n",
       "29                               程雪军    深圳大学学报(人文社会科学版)        2021-05-14 NaN   \n",
       "30           李明珠; 陈谦峰; 任朝莹; 王章林; 李灿东               中医杂志        2021-05-14 NaN   \n",
       "31                胡青松; 钱建生; 李世银; 孙彦景             煤炭科学技术  2021-05-12 14:49 NaN   \n",
       "32               袁先智;周云鹏;严诚幸;刘海洋;钱国骐             中国管理科学  2021-05-11 09:35 NaN   \n",
       "33                 黄凯奇; 赵鑫; 李乔哲; 胡世宇               图学学报  2021-05-08 14:47 NaN   \n",
       "34                               梁春华            情报理论与实践  2021-05-08 11:00 NaN   \n",
       "35                               邢珍珍               护理研究        2021-05-08 NaN   \n",
       "36                      陈丽; 任萍萍; 张文梅             中国电化教育        2021-05-08 NaN   \n",
       "37                               张枝实               成人教育        2021-05-07 NaN   \n",
       "38                                韩勇               青年记者        2021-04-30 NaN   \n",
       "39                               徐延章               东南文化        2021-04-30 NaN   \n",
       "40                     刘坤锋; 李艳红; 张心源             图书情报工作  2021-04-26 09:07 NaN   \n",
       "41                刘宗毅; 谢珊珊; 莫中秋; 孙碧娇            情报理论与实践        2021-04-26 NaN   \n",
       "42                 沈锡宾;刘红霞;王海娟;朱瑶;袁庆               编辑学报        2021-04-22 NaN   \n",
       "43  孟博洋;李茂月;刘献礼;WANG Lihui;LIANG S Y             机械工程学报  2021-04-21 13:35 NaN   \n",
       "44                       杨祎; 刘嫣然; 李垣               科研管理        2021-04-20 NaN   \n",
       "45                               李新虎               电子器件        2021-04-20 NaN   \n",
       "46                          赵上宁; 史大胜            教育理论与实践        2021-04-20 NaN   \n",
       "47                               罗生全            教育研究与实验        2021-04-20 NaN   \n",
       "48                     许云骅; 金善朝; 徐浩煜             中国给水排水        2021-04-17 NaN   \n",
       "49                吴冬;孙汉旭;荣培晶;戴如君;廉海红               针刺研究  2021-04-16 16:52 NaN   \n",
       "\n",
       "        下载  操作  \n",
       "0      NaN  下载  \n",
       "1      NaN  下载  \n",
       "2     72.0  下载  \n",
       "3    117.0  下载  \n",
       "4    139.0  下载  \n",
       "5    286.0  下载  \n",
       "6    199.0  下载  \n",
       "7    296.0  下载  \n",
       "8    147.0  下载  \n",
       "9    105.0  下载  \n",
       "10    38.0  下载  \n",
       "11   249.0  下载  \n",
       "12   104.0  下载  \n",
       "13     NaN  下载  \n",
       "14    24.0  下载  \n",
       "15   283.0  下载  \n",
       "16   125.0  下载  \n",
       "17     NaN  下载  \n",
       "18   221.0  下载  \n",
       "19  1073.0  下载  \n",
       "20    81.0  下载  \n",
       "21   169.0  下载  \n",
       "22   166.0  下载  \n",
       "23    20.0  下载  \n",
       "24    76.0  下载  \n",
       "25   496.0  下载  \n",
       "26    17.0  下载  \n",
       "27     NaN  下载  \n",
       "28     NaN  下载  \n",
       "29   366.0  下载  \n",
       "30   233.0  下载  \n",
       "31   106.0  下载  \n",
       "32   242.0  下载  \n",
       "33   399.0  下载  \n",
       "34   187.0  下载  \n",
       "35   945.0  下载  \n",
       "36   961.0  下载  \n",
       "37   279.0  下载  \n",
       "38   103.0  下载  \n",
       "39    51.0  下载  \n",
       "40    67.0  下载  \n",
       "41   162.0  下载  \n",
       "42   110.0  下载  \n",
       "43   285.0  下载  \n",
       "44   311.0  下载  \n",
       "45    22.0  下载  \n",
       "46    36.0  下载  \n",
       "47    37.0  下载  \n",
       "48    25.0  下载  \n",
       "49   344.0  下载  "
      ]
     },
     "execution_count": 160,
     "metadata": {},
     "output_type": "execute_result"
    }
   ],
   "source": [
    "# 查看页面信息\n",
    "element = driver.find_element_by_id('gridTable')\n",
    "page_html = element.get_attribute('innerHTML')\n",
    "page_html\n",
    "pd.read_html(page_html)[0]"
   ]
  },
  {
   "cell_type": "markdown",
   "metadata": {},
   "source": [
    "# 导出refworks文件"
   ]
  },
  {
   "cell_type": "code",
   "execution_count": 161,
   "metadata": {},
   "outputs": [],
   "source": [
    "driver.switch_to.window(driver.window_handles[1])"
   ]
  },
  {
   "cell_type": "code",
   "execution_count": 80,
   "metadata": {},
   "outputs": [],
   "source": [
    "driver.find_element_by_id('PageNext').get_attribute('src')"
   ]
  },
  {
   "cell_type": "code",
   "execution_count": 109,
   "metadata": {},
   "outputs": [],
   "source": [
    "# 全选文章\n",
    "element = driver.find_element_by_xpath('/html/body/div[3]/div[2]/div[2]/div[2]/form/div/div[1]/div[2]/div[1]/label/input')\n",
    "element.click()"
   ]
  },
  {
   "cell_type": "code",
   "execution_count": 110,
   "metadata": {},
   "outputs": [],
   "source": [
    "# 选择导出\n",
    "element = driver.find_element_by_xpath('/html/body/div[3]/div[2]/div[2]/div[2]/form/div/div[1]/div[2]/ul[1]/li[2]/i')\n",
    "element.click()"
   ]
  },
  {
   "cell_type": "code",
   "execution_count": 111,
   "metadata": {},
   "outputs": [],
   "source": [
    "# 选择导出格式\n",
    "element = driver.find_element_by_xpath('/html/body/div[3]/div[2]/div[2]/div[2]/form/div/div[1]/div[2]/ul[1]/li[2]/ul/li[1]/a')\n",
    "element.click()"
   ]
  },
  {
   "cell_type": "code",
   "execution_count": 112,
   "metadata": {},
   "outputs": [],
   "source": [
    "# 选择refworks文件\n",
    "element = driver.find_element_by_xpath('/html/body/div[3]/div[2]/div[2]/div[2]/form/div/div[1]/div[2]/ul[1]/li[2]/ul/li[1]/ul/li[8]/a')\n",
    "element.click()"
   ]
  },
  {
   "cell_type": "code",
   "execution_count": 113,
   "metadata": {},
   "outputs": [],
   "source": [
    "driver.switch_to.window(driver.window_handles[2])"
   ]
  },
  {
   "cell_type": "code",
   "execution_count": 93,
   "metadata": {},
   "outputs": [],
   "source": [
    "# 批量导出\n",
    "element = driver.find_element_by_xpath('//*[@id=\"litotxt\"]/a')\n",
    "element.click()"
   ]
  },
  {
   "cell_type": "code",
   "execution_count": 114,
   "metadata": {},
   "outputs": [],
   "source": [
    "driver.close()"
   ]
  },
  {
   "cell_type": "markdown",
   "metadata": {},
   "source": [
    "## 循环导出"
   ]
  },
  {
   "cell_type": "code",
   "execution_count": 187,
   "metadata": {},
   "outputs": [],
   "source": [
    "driver.switch_to.window(driver.window_handles[1])"
   ]
  },
  {
   "cell_type": "code",
   "execution_count": 172,
   "metadata": {},
   "outputs": [
    {
     "ename": "UnexpectedAlertPresentException",
     "evalue": "Alert Text: 不能超过500个,若要重新选择,请按清除按钮,再进行选取操作\nMessage: unexpected alert open: {Alert text : 不能超过500个,若要重新选择,请按清除按钮,再进行选取操作}\n  (Session info: chrome=90.0.4430.212)\n",
     "output_type": "error",
     "traceback": [
      "\u001b[1;31m---------------------------------------------------------------------------\u001b[0m",
      "\u001b[1;31mUnexpectedAlertPresentException\u001b[0m           Traceback (most recent call last)",
      "\u001b[1;32m<ipython-input-172-b8c71c2ef675>\u001b[0m in \u001b[0;36m<module>\u001b[1;34m\u001b[0m\n\u001b[0;32m      1\u001b[0m \u001b[1;32mfor\u001b[0m \u001b[0mpage\u001b[0m \u001b[1;32min\u001b[0m \u001b[0mrange\u001b[0m\u001b[1;33m(\u001b[0m\u001b[1;36m0\u001b[0m\u001b[1;33m,\u001b[0m\u001b[1;36m26\u001b[0m\u001b[1;33m)\u001b[0m\u001b[1;33m:\u001b[0m\u001b[1;33m\u001b[0m\u001b[1;33m\u001b[0m\u001b[0m\n\u001b[0;32m      2\u001b[0m     \u001b[0mdriver\u001b[0m\u001b[1;33m.\u001b[0m\u001b[0mfind_element_by_xpath\u001b[0m\u001b[1;33m(\u001b[0m\u001b[1;34m'/html/body/div[3]/div[2]/div[2]/div[2]/form/div/div[1]/div[2]/div[1]/label/input'\u001b[0m\u001b[1;33m)\u001b[0m\u001b[1;33m.\u001b[0m\u001b[0mclick\u001b[0m\u001b[1;33m(\u001b[0m\u001b[1;33m)\u001b[0m\u001b[1;33m\u001b[0m\u001b[1;33m\u001b[0m\u001b[0m\n\u001b[1;32m----> 3\u001b[1;33m     \u001b[0mdriver\u001b[0m\u001b[1;33m.\u001b[0m\u001b[0mfind_element_by_xpath\u001b[0m\u001b[1;33m(\u001b[0m\u001b[1;34m'//*[@id=\"PageNext\"]'\u001b[0m\u001b[1;33m)\u001b[0m\u001b[1;33m.\u001b[0m\u001b[0mclick\u001b[0m\u001b[1;33m(\u001b[0m\u001b[1;33m)\u001b[0m\u001b[1;33m\u001b[0m\u001b[1;33m\u001b[0m\u001b[0m\n\u001b[0m\u001b[0;32m      4\u001b[0m     \u001b[0mtime\u001b[0m\u001b[1;33m.\u001b[0m\u001b[0msleep\u001b[0m\u001b[1;33m(\u001b[0m\u001b[1;36m8\u001b[0m\u001b[1;33m)\u001b[0m\u001b[1;33m\u001b[0m\u001b[1;33m\u001b[0m\u001b[0m\n",
      "\u001b[1;32mE:\\anaconda\\lib\\site-packages\\selenium\\webdriver\\remote\\webdriver.py\u001b[0m in \u001b[0;36mfind_element_by_xpath\u001b[1;34m(self, xpath)\u001b[0m\n\u001b[0;32m    392\u001b[0m             \u001b[0melement\u001b[0m \u001b[1;33m=\u001b[0m \u001b[0mdriver\u001b[0m\u001b[1;33m.\u001b[0m\u001b[0mfind_element_by_xpath\u001b[0m\u001b[1;33m(\u001b[0m\u001b[1;34m'//div/td[1]'\u001b[0m\u001b[1;33m)\u001b[0m\u001b[1;33m\u001b[0m\u001b[1;33m\u001b[0m\u001b[0m\n\u001b[0;32m    393\u001b[0m         \"\"\"\n\u001b[1;32m--> 394\u001b[1;33m         \u001b[1;32mreturn\u001b[0m \u001b[0mself\u001b[0m\u001b[1;33m.\u001b[0m\u001b[0mfind_element\u001b[0m\u001b[1;33m(\u001b[0m\u001b[0mby\u001b[0m\u001b[1;33m=\u001b[0m\u001b[0mBy\u001b[0m\u001b[1;33m.\u001b[0m\u001b[0mXPATH\u001b[0m\u001b[1;33m,\u001b[0m \u001b[0mvalue\u001b[0m\u001b[1;33m=\u001b[0m\u001b[0mxpath\u001b[0m\u001b[1;33m)\u001b[0m\u001b[1;33m\u001b[0m\u001b[1;33m\u001b[0m\u001b[0m\n\u001b[0m\u001b[0;32m    395\u001b[0m \u001b[1;33m\u001b[0m\u001b[0m\n\u001b[0;32m    396\u001b[0m     \u001b[1;32mdef\u001b[0m \u001b[0mfind_elements_by_xpath\u001b[0m\u001b[1;33m(\u001b[0m\u001b[0mself\u001b[0m\u001b[1;33m,\u001b[0m \u001b[0mxpath\u001b[0m\u001b[1;33m)\u001b[0m\u001b[1;33m:\u001b[0m\u001b[1;33m\u001b[0m\u001b[1;33m\u001b[0m\u001b[0m\n",
      "\u001b[1;32mE:\\anaconda\\lib\\site-packages\\selenium\\webdriver\\remote\\webdriver.py\u001b[0m in \u001b[0;36mfind_element\u001b[1;34m(self, by, value)\u001b[0m\n\u001b[0;32m    974\u001b[0m                 \u001b[0mby\u001b[0m \u001b[1;33m=\u001b[0m \u001b[0mBy\u001b[0m\u001b[1;33m.\u001b[0m\u001b[0mCSS_SELECTOR\u001b[0m\u001b[1;33m\u001b[0m\u001b[1;33m\u001b[0m\u001b[0m\n\u001b[0;32m    975\u001b[0m                 \u001b[0mvalue\u001b[0m \u001b[1;33m=\u001b[0m \u001b[1;34m'[name=\"%s\"]'\u001b[0m \u001b[1;33m%\u001b[0m \u001b[0mvalue\u001b[0m\u001b[1;33m\u001b[0m\u001b[1;33m\u001b[0m\u001b[0m\n\u001b[1;32m--> 976\u001b[1;33m         return self.execute(Command.FIND_ELEMENT, {\n\u001b[0m\u001b[0;32m    977\u001b[0m             \u001b[1;34m'using'\u001b[0m\u001b[1;33m:\u001b[0m \u001b[0mby\u001b[0m\u001b[1;33m,\u001b[0m\u001b[1;33m\u001b[0m\u001b[1;33m\u001b[0m\u001b[0m\n\u001b[0;32m    978\u001b[0m             'value': value})['value']\n",
      "\u001b[1;32mE:\\anaconda\\lib\\site-packages\\selenium\\webdriver\\remote\\webdriver.py\u001b[0m in \u001b[0;36mexecute\u001b[1;34m(self, driver_command, params)\u001b[0m\n\u001b[0;32m    319\u001b[0m         \u001b[0mresponse\u001b[0m \u001b[1;33m=\u001b[0m \u001b[0mself\u001b[0m\u001b[1;33m.\u001b[0m\u001b[0mcommand_executor\u001b[0m\u001b[1;33m.\u001b[0m\u001b[0mexecute\u001b[0m\u001b[1;33m(\u001b[0m\u001b[0mdriver_command\u001b[0m\u001b[1;33m,\u001b[0m \u001b[0mparams\u001b[0m\u001b[1;33m)\u001b[0m\u001b[1;33m\u001b[0m\u001b[1;33m\u001b[0m\u001b[0m\n\u001b[0;32m    320\u001b[0m         \u001b[1;32mif\u001b[0m \u001b[0mresponse\u001b[0m\u001b[1;33m:\u001b[0m\u001b[1;33m\u001b[0m\u001b[1;33m\u001b[0m\u001b[0m\n\u001b[1;32m--> 321\u001b[1;33m             \u001b[0mself\u001b[0m\u001b[1;33m.\u001b[0m\u001b[0merror_handler\u001b[0m\u001b[1;33m.\u001b[0m\u001b[0mcheck_response\u001b[0m\u001b[1;33m(\u001b[0m\u001b[0mresponse\u001b[0m\u001b[1;33m)\u001b[0m\u001b[1;33m\u001b[0m\u001b[1;33m\u001b[0m\u001b[0m\n\u001b[0m\u001b[0;32m    322\u001b[0m             response['value'] = self._unwrap_value(\n\u001b[0;32m    323\u001b[0m                 response.get('value', None))\n",
      "\u001b[1;32mE:\\anaconda\\lib\\site-packages\\selenium\\webdriver\\remote\\errorhandler.py\u001b[0m in \u001b[0;36mcheck_response\u001b[1;34m(self, response)\u001b[0m\n\u001b[0;32m    239\u001b[0m             \u001b[1;32melif\u001b[0m \u001b[1;34m'alert'\u001b[0m \u001b[1;32min\u001b[0m \u001b[0mvalue\u001b[0m\u001b[1;33m:\u001b[0m\u001b[1;33m\u001b[0m\u001b[1;33m\u001b[0m\u001b[0m\n\u001b[0;32m    240\u001b[0m                 \u001b[0malert_text\u001b[0m \u001b[1;33m=\u001b[0m \u001b[0mvalue\u001b[0m\u001b[1;33m[\u001b[0m\u001b[1;34m'alert'\u001b[0m\u001b[1;33m]\u001b[0m\u001b[1;33m.\u001b[0m\u001b[0mget\u001b[0m\u001b[1;33m(\u001b[0m\u001b[1;34m'text'\u001b[0m\u001b[1;33m)\u001b[0m\u001b[1;33m\u001b[0m\u001b[1;33m\u001b[0m\u001b[0m\n\u001b[1;32m--> 241\u001b[1;33m             \u001b[1;32mraise\u001b[0m \u001b[0mexception_class\u001b[0m\u001b[1;33m(\u001b[0m\u001b[0mmessage\u001b[0m\u001b[1;33m,\u001b[0m \u001b[0mscreen\u001b[0m\u001b[1;33m,\u001b[0m \u001b[0mstacktrace\u001b[0m\u001b[1;33m,\u001b[0m \u001b[0malert_text\u001b[0m\u001b[1;33m)\u001b[0m\u001b[1;33m\u001b[0m\u001b[1;33m\u001b[0m\u001b[0m\n\u001b[0m\u001b[0;32m    242\u001b[0m         \u001b[1;32mraise\u001b[0m \u001b[0mexception_class\u001b[0m\u001b[1;33m(\u001b[0m\u001b[0mmessage\u001b[0m\u001b[1;33m,\u001b[0m \u001b[0mscreen\u001b[0m\u001b[1;33m,\u001b[0m \u001b[0mstacktrace\u001b[0m\u001b[1;33m)\u001b[0m\u001b[1;33m\u001b[0m\u001b[1;33m\u001b[0m\u001b[0m\n\u001b[0;32m    243\u001b[0m \u001b[1;33m\u001b[0m\u001b[0m\n",
      "\u001b[1;31mUnexpectedAlertPresentException\u001b[0m: Alert Text: 不能超过500个,若要重新选择,请按清除按钮,再进行选取操作\nMessage: unexpected alert open: {Alert text : 不能超过500个,若要重新选择,请按清除按钮,再进行选取操作}\n  (Session info: chrome=90.0.4430.212)\n"
     ]
    }
   ],
   "source": [
    "for page in range(0,26):\n",
    "    driver.find_element_by_xpath('/html/body/div[3]/div[2]/div[2]/div[2]/form/div/div[1]/div[2]/div[1]/label/input').click()\n",
    "    driver.find_element_by_xpath('//*[@id=\"PageNext\"]').click()\n",
    "    time.sleep(8) "
   ]
  },
  {
   "cell_type": "markdown",
   "metadata": {},
   "source": [
    "- 因不能全部选择，最多选择500篇文章，因此我们换种方式进行导出"
   ]
  },
  {
   "cell_type": "code",
   "execution_count": null,
   "metadata": {},
   "outputs": [],
   "source": [
    "element = driver.find_element_by_xpath('/html/body/div[3]/div[2]/div[2]/div[2]/form/div/div[1]/div[2]/ul[1]/li[2]/i')\n",
    "element.click()"
   ]
  },
  {
   "cell_type": "code",
   "execution_count": null,
   "metadata": {},
   "outputs": [],
   "source": [
    "element = driver.find_element_by_xpath('/html/body/div[3]/div[2]/div[2]/div[2]/form/div/div[1]/div[2]/ul[1]/li[2]/ul/li[1]/a')\n",
    "element.click()"
   ]
  },
  {
   "cell_type": "code",
   "execution_count": null,
   "metadata": {},
   "outputs": [],
   "source": [
    "element = driver.find_element_by_xpath('/html/body/div[3]/div[2]/div[2]/div[2]/form/div/div[1]/div[2]/ul[1]/li[2]/ul/li[1]/ul/li[8]/a')\n",
    "element.click()"
   ]
  },
  {
   "cell_type": "code",
   "execution_count": null,
   "metadata": {},
   "outputs": [],
   "source": [
    "driver.switch_to.window(driver.window_handles[2])"
   ]
  },
  {
   "cell_type": "code",
   "execution_count": 185,
   "metadata": {},
   "outputs": [],
   "source": [
    "element = driver.find_element_by_xpath('//*[@id=\"gridTable\"]/div[1]/div[2]/div[1]/a')\n",
    "element.click()"
   ]
  },
  {
   "cell_type": "markdown",
   "metadata": {},
   "source": [
    "## 循环导出（分50篇各自导出）"
   ]
  },
  {
   "cell_type": "code",
   "execution_count": 178,
   "metadata": {},
   "outputs": [
    {
     "data": {
      "text/plain": [
       "['//*[@id=\"gridTable\"]/div[1]/div[2]/div[1]/a',\n",
       " '/html/body/div[3]/div[2]/div[2]/div[2]/form/div/div[1]/div[2]/div[1]/label/input',\n",
       " '/html/body/div[3]/div[2]/div[2]/div[2]/form/div/div[1]/div[2]/ul[1]/li[2]/i',\n",
       " '/html/body/div[3]/div[2]/div[2]/div[2]/form/div/div[1]/div[2]/ul[1]/li[2]/ul/li[1]/a',\n",
       " '/html/body/div[3]/div[2]/div[2]/div[2]/form/div/div[1]/div[2]/ul[1]/li[2]/ul/li[1]/ul/li[8]/a']"
      ]
     },
     "execution_count": 178,
     "metadata": {},
     "output_type": "execute_result"
    }
   ],
   "source": [
    "piliang_list = []\n",
    "piliang_list.append('//*[@id=\"gridTable\"]/div[1]/div[2]/div[1]/a')\n",
    "piliang_list.append(\"/html/body/div[3]/div[2]/div[2]/div[2]/form/div/div[1]/div[2]/div[1]/label/input\")\n",
    "piliang_list.append(\"/html/body/div[3]/div[2]/div[2]/div[2]/form/div/div[1]/div[2]/ul[1]/li[2]/i\")\n",
    "piliang_list.append(\"/html/body/div[3]/div[2]/div[2]/div[2]/form/div/div[1]/div[2]/ul[1]/li[2]/ul/li[1]/a\")\n",
    "piliang_list.append(\"/html/body/div[3]/div[2]/div[2]/div[2]/form/div/div[1]/div[2]/ul[1]/li[2]/ul/li[1]/ul/li[8]/a\")\n",
    "piliang_list"
   ]
  },
  {
   "cell_type": "code",
   "execution_count": 179,
   "metadata": {},
   "outputs": [
    {
     "ename": "NoSuchElementException",
     "evalue": "Message: no such element: Unable to locate element: {\"method\":\"xpath\",\"selector\":\"//*[@id=\"PageNext\"]\"}\n  (Session info: chrome=90.0.4430.212)\n",
     "output_type": "error",
     "traceback": [
      "\u001b[1;31m---------------------------------------------------------------------------\u001b[0m",
      "\u001b[1;31mNoSuchElementException\u001b[0m                    Traceback (most recent call last)",
      "\u001b[1;32m<ipython-input-179-bc83c9fab06b>\u001b[0m in \u001b[0;36m<module>\u001b[1;34m\u001b[0m\n\u001b[0;32m     11\u001b[0m     \u001b[0mtime\u001b[0m\u001b[1;33m.\u001b[0m\u001b[0msleep\u001b[0m\u001b[1;33m(\u001b[0m\u001b[1;36m4\u001b[0m\u001b[1;33m)\u001b[0m\u001b[1;33m\u001b[0m\u001b[1;33m\u001b[0m\u001b[0m\n\u001b[0;32m     12\u001b[0m     \u001b[0mdriver\u001b[0m\u001b[1;33m.\u001b[0m\u001b[0mswitch_to\u001b[0m\u001b[1;33m.\u001b[0m\u001b[0mwindow\u001b[0m\u001b[1;33m(\u001b[0m\u001b[0mdriver\u001b[0m\u001b[1;33m.\u001b[0m\u001b[0mwindow_handles\u001b[0m\u001b[1;33m[\u001b[0m\u001b[1;36m1\u001b[0m\u001b[1;33m]\u001b[0m\u001b[1;33m)\u001b[0m\u001b[1;33m\u001b[0m\u001b[1;33m\u001b[0m\u001b[0m\n\u001b[1;32m---> 13\u001b[1;33m     \u001b[0mdriver\u001b[0m\u001b[1;33m.\u001b[0m\u001b[0mfind_element_by_xpath\u001b[0m\u001b[1;33m(\u001b[0m\u001b[1;34m'//*[@id=\"PageNext\"]'\u001b[0m\u001b[1;33m)\u001b[0m\u001b[1;33m.\u001b[0m\u001b[0mclick\u001b[0m\u001b[1;33m(\u001b[0m\u001b[1;33m)\u001b[0m\u001b[1;33m\u001b[0m\u001b[1;33m\u001b[0m\u001b[0m\n\u001b[0m\u001b[0;32m     14\u001b[0m     \u001b[0mtime\u001b[0m\u001b[1;33m.\u001b[0m\u001b[0msleep\u001b[0m\u001b[1;33m(\u001b[0m\u001b[1;36m12\u001b[0m\u001b[1;33m)\u001b[0m\u001b[1;33m\u001b[0m\u001b[1;33m\u001b[0m\u001b[0m\n",
      "\u001b[1;32mE:\\anaconda\\lib\\site-packages\\selenium\\webdriver\\remote\\webdriver.py\u001b[0m in \u001b[0;36mfind_element_by_xpath\u001b[1;34m(self, xpath)\u001b[0m\n\u001b[0;32m    392\u001b[0m             \u001b[0melement\u001b[0m \u001b[1;33m=\u001b[0m \u001b[0mdriver\u001b[0m\u001b[1;33m.\u001b[0m\u001b[0mfind_element_by_xpath\u001b[0m\u001b[1;33m(\u001b[0m\u001b[1;34m'//div/td[1]'\u001b[0m\u001b[1;33m)\u001b[0m\u001b[1;33m\u001b[0m\u001b[1;33m\u001b[0m\u001b[0m\n\u001b[0;32m    393\u001b[0m         \"\"\"\n\u001b[1;32m--> 394\u001b[1;33m         \u001b[1;32mreturn\u001b[0m \u001b[0mself\u001b[0m\u001b[1;33m.\u001b[0m\u001b[0mfind_element\u001b[0m\u001b[1;33m(\u001b[0m\u001b[0mby\u001b[0m\u001b[1;33m=\u001b[0m\u001b[0mBy\u001b[0m\u001b[1;33m.\u001b[0m\u001b[0mXPATH\u001b[0m\u001b[1;33m,\u001b[0m \u001b[0mvalue\u001b[0m\u001b[1;33m=\u001b[0m\u001b[0mxpath\u001b[0m\u001b[1;33m)\u001b[0m\u001b[1;33m\u001b[0m\u001b[1;33m\u001b[0m\u001b[0m\n\u001b[0m\u001b[0;32m    395\u001b[0m \u001b[1;33m\u001b[0m\u001b[0m\n\u001b[0;32m    396\u001b[0m     \u001b[1;32mdef\u001b[0m \u001b[0mfind_elements_by_xpath\u001b[0m\u001b[1;33m(\u001b[0m\u001b[0mself\u001b[0m\u001b[1;33m,\u001b[0m \u001b[0mxpath\u001b[0m\u001b[1;33m)\u001b[0m\u001b[1;33m:\u001b[0m\u001b[1;33m\u001b[0m\u001b[1;33m\u001b[0m\u001b[0m\n",
      "\u001b[1;32mE:\\anaconda\\lib\\site-packages\\selenium\\webdriver\\remote\\webdriver.py\u001b[0m in \u001b[0;36mfind_element\u001b[1;34m(self, by, value)\u001b[0m\n\u001b[0;32m    974\u001b[0m                 \u001b[0mby\u001b[0m \u001b[1;33m=\u001b[0m \u001b[0mBy\u001b[0m\u001b[1;33m.\u001b[0m\u001b[0mCSS_SELECTOR\u001b[0m\u001b[1;33m\u001b[0m\u001b[1;33m\u001b[0m\u001b[0m\n\u001b[0;32m    975\u001b[0m                 \u001b[0mvalue\u001b[0m \u001b[1;33m=\u001b[0m \u001b[1;34m'[name=\"%s\"]'\u001b[0m \u001b[1;33m%\u001b[0m \u001b[0mvalue\u001b[0m\u001b[1;33m\u001b[0m\u001b[1;33m\u001b[0m\u001b[0m\n\u001b[1;32m--> 976\u001b[1;33m         return self.execute(Command.FIND_ELEMENT, {\n\u001b[0m\u001b[0;32m    977\u001b[0m             \u001b[1;34m'using'\u001b[0m\u001b[1;33m:\u001b[0m \u001b[0mby\u001b[0m\u001b[1;33m,\u001b[0m\u001b[1;33m\u001b[0m\u001b[1;33m\u001b[0m\u001b[0m\n\u001b[0;32m    978\u001b[0m             'value': value})['value']\n",
      "\u001b[1;32mE:\\anaconda\\lib\\site-packages\\selenium\\webdriver\\remote\\webdriver.py\u001b[0m in \u001b[0;36mexecute\u001b[1;34m(self, driver_command, params)\u001b[0m\n\u001b[0;32m    319\u001b[0m         \u001b[0mresponse\u001b[0m \u001b[1;33m=\u001b[0m \u001b[0mself\u001b[0m\u001b[1;33m.\u001b[0m\u001b[0mcommand_executor\u001b[0m\u001b[1;33m.\u001b[0m\u001b[0mexecute\u001b[0m\u001b[1;33m(\u001b[0m\u001b[0mdriver_command\u001b[0m\u001b[1;33m,\u001b[0m \u001b[0mparams\u001b[0m\u001b[1;33m)\u001b[0m\u001b[1;33m\u001b[0m\u001b[1;33m\u001b[0m\u001b[0m\n\u001b[0;32m    320\u001b[0m         \u001b[1;32mif\u001b[0m \u001b[0mresponse\u001b[0m\u001b[1;33m:\u001b[0m\u001b[1;33m\u001b[0m\u001b[1;33m\u001b[0m\u001b[0m\n\u001b[1;32m--> 321\u001b[1;33m             \u001b[0mself\u001b[0m\u001b[1;33m.\u001b[0m\u001b[0merror_handler\u001b[0m\u001b[1;33m.\u001b[0m\u001b[0mcheck_response\u001b[0m\u001b[1;33m(\u001b[0m\u001b[0mresponse\u001b[0m\u001b[1;33m)\u001b[0m\u001b[1;33m\u001b[0m\u001b[1;33m\u001b[0m\u001b[0m\n\u001b[0m\u001b[0;32m    322\u001b[0m             response['value'] = self._unwrap_value(\n\u001b[0;32m    323\u001b[0m                 response.get('value', None))\n",
      "\u001b[1;32mE:\\anaconda\\lib\\site-packages\\selenium\\webdriver\\remote\\errorhandler.py\u001b[0m in \u001b[0;36mcheck_response\u001b[1;34m(self, response)\u001b[0m\n\u001b[0;32m    240\u001b[0m                 \u001b[0malert_text\u001b[0m \u001b[1;33m=\u001b[0m \u001b[0mvalue\u001b[0m\u001b[1;33m[\u001b[0m\u001b[1;34m'alert'\u001b[0m\u001b[1;33m]\u001b[0m\u001b[1;33m.\u001b[0m\u001b[0mget\u001b[0m\u001b[1;33m(\u001b[0m\u001b[1;34m'text'\u001b[0m\u001b[1;33m)\u001b[0m\u001b[1;33m\u001b[0m\u001b[1;33m\u001b[0m\u001b[0m\n\u001b[0;32m    241\u001b[0m             \u001b[1;32mraise\u001b[0m \u001b[0mexception_class\u001b[0m\u001b[1;33m(\u001b[0m\u001b[0mmessage\u001b[0m\u001b[1;33m,\u001b[0m \u001b[0mscreen\u001b[0m\u001b[1;33m,\u001b[0m \u001b[0mstacktrace\u001b[0m\u001b[1;33m,\u001b[0m \u001b[0malert_text\u001b[0m\u001b[1;33m)\u001b[0m\u001b[1;33m\u001b[0m\u001b[1;33m\u001b[0m\u001b[0m\n\u001b[1;32m--> 242\u001b[1;33m         \u001b[1;32mraise\u001b[0m \u001b[0mexception_class\u001b[0m\u001b[1;33m(\u001b[0m\u001b[0mmessage\u001b[0m\u001b[1;33m,\u001b[0m \u001b[0mscreen\u001b[0m\u001b[1;33m,\u001b[0m \u001b[0mstacktrace\u001b[0m\u001b[1;33m)\u001b[0m\u001b[1;33m\u001b[0m\u001b[1;33m\u001b[0m\u001b[0m\n\u001b[0m\u001b[0;32m    243\u001b[0m \u001b[1;33m\u001b[0m\u001b[0m\n\u001b[0;32m    244\u001b[0m     \u001b[1;32mdef\u001b[0m \u001b[0m_value_or_default\u001b[0m\u001b[1;33m(\u001b[0m\u001b[0mself\u001b[0m\u001b[1;33m,\u001b[0m \u001b[0mobj\u001b[0m\u001b[1;33m,\u001b[0m \u001b[0mkey\u001b[0m\u001b[1;33m,\u001b[0m \u001b[0mdefault\u001b[0m\u001b[1;33m)\u001b[0m\u001b[1;33m:\u001b[0m\u001b[1;33m\u001b[0m\u001b[1;33m\u001b[0m\u001b[0m\n",
      "\u001b[1;31mNoSuchElementException\u001b[0m: Message: no such element: Unable to locate element: {\"method\":\"xpath\",\"selector\":\"//*[@id=\"PageNext\"]\"}\n  (Session info: chrome=90.0.4430.212)\n"
     ]
    }
   ],
   "source": [
    "for page in range(0,26):\n",
    "    for i in piliang_list:\n",
    "        element = driver.find_element_by_xpath(i)\n",
    "        element.click()\n",
    "        time.sleep(2)\n",
    "    driver.switch_to.window(driver.window_handles[2])\n",
    "    time.sleep(10)\n",
    "    driver.find_element_by_xpath('//*[@id=\"litotxt\"]/a').click()\n",
    "    time.sleep(10)\n",
    "    driver.close()\n",
    "    time.sleep(4)\n",
    "    driver.switch_to.window(driver.window_handles[1])\n",
    "    driver.find_element_by_xpath('//*[@id=\"PageNext\"]').click()\n",
    "    time.sleep(12)\n",
    "# 忘了加上while进行一个终止判断，代码循环运行到第26页后后面没有页数，则没有下一页键无法自动化点击，出现报错。"
   ]
  },
  {
   "cell_type": "markdown",
   "metadata": {},
   "source": [
    "# 原文下载"
   ]
  },
  {
   "cell_type": "code",
   "execution_count": 182,
   "metadata": {},
   "outputs": [],
   "source": [
    "xiazai_list = []\n",
    "for i in range(1,51):\n",
    "    xiazai_xpath = '//*[@id=\"gridTable\"]/table/tbody/tr[{}]/td[8]/a[1]/i'.format(i)\n",
    "    xiazai_list.append(xiazai_xpath)"
   ]
  },
  {
   "cell_type": "code",
   "execution_count": 183,
   "metadata": {},
   "outputs": [
    {
     "data": {
      "text/plain": [
       "['//*[@id=\"gridTable\"]/table/tbody/tr[1]/td[8]/a[1]/i',\n",
       " '//*[@id=\"gridTable\"]/table/tbody/tr[2]/td[8]/a[1]/i',\n",
       " '//*[@id=\"gridTable\"]/table/tbody/tr[3]/td[8]/a[1]/i',\n",
       " '//*[@id=\"gridTable\"]/table/tbody/tr[4]/td[8]/a[1]/i',\n",
       " '//*[@id=\"gridTable\"]/table/tbody/tr[5]/td[8]/a[1]/i',\n",
       " '//*[@id=\"gridTable\"]/table/tbody/tr[6]/td[8]/a[1]/i',\n",
       " '//*[@id=\"gridTable\"]/table/tbody/tr[7]/td[8]/a[1]/i',\n",
       " '//*[@id=\"gridTable\"]/table/tbody/tr[8]/td[8]/a[1]/i',\n",
       " '//*[@id=\"gridTable\"]/table/tbody/tr[9]/td[8]/a[1]/i',\n",
       " '//*[@id=\"gridTable\"]/table/tbody/tr[10]/td[8]/a[1]/i',\n",
       " '//*[@id=\"gridTable\"]/table/tbody/tr[11]/td[8]/a[1]/i',\n",
       " '//*[@id=\"gridTable\"]/table/tbody/tr[12]/td[8]/a[1]/i',\n",
       " '//*[@id=\"gridTable\"]/table/tbody/tr[13]/td[8]/a[1]/i',\n",
       " '//*[@id=\"gridTable\"]/table/tbody/tr[14]/td[8]/a[1]/i',\n",
       " '//*[@id=\"gridTable\"]/table/tbody/tr[15]/td[8]/a[1]/i',\n",
       " '//*[@id=\"gridTable\"]/table/tbody/tr[16]/td[8]/a[1]/i',\n",
       " '//*[@id=\"gridTable\"]/table/tbody/tr[17]/td[8]/a[1]/i',\n",
       " '//*[@id=\"gridTable\"]/table/tbody/tr[18]/td[8]/a[1]/i',\n",
       " '//*[@id=\"gridTable\"]/table/tbody/tr[19]/td[8]/a[1]/i',\n",
       " '//*[@id=\"gridTable\"]/table/tbody/tr[20]/td[8]/a[1]/i',\n",
       " '//*[@id=\"gridTable\"]/table/tbody/tr[21]/td[8]/a[1]/i',\n",
       " '//*[@id=\"gridTable\"]/table/tbody/tr[22]/td[8]/a[1]/i',\n",
       " '//*[@id=\"gridTable\"]/table/tbody/tr[23]/td[8]/a[1]/i',\n",
       " '//*[@id=\"gridTable\"]/table/tbody/tr[24]/td[8]/a[1]/i',\n",
       " '//*[@id=\"gridTable\"]/table/tbody/tr[25]/td[8]/a[1]/i',\n",
       " '//*[@id=\"gridTable\"]/table/tbody/tr[26]/td[8]/a[1]/i',\n",
       " '//*[@id=\"gridTable\"]/table/tbody/tr[27]/td[8]/a[1]/i',\n",
       " '//*[@id=\"gridTable\"]/table/tbody/tr[28]/td[8]/a[1]/i',\n",
       " '//*[@id=\"gridTable\"]/table/tbody/tr[29]/td[8]/a[1]/i',\n",
       " '//*[@id=\"gridTable\"]/table/tbody/tr[30]/td[8]/a[1]/i',\n",
       " '//*[@id=\"gridTable\"]/table/tbody/tr[31]/td[8]/a[1]/i',\n",
       " '//*[@id=\"gridTable\"]/table/tbody/tr[32]/td[8]/a[1]/i',\n",
       " '//*[@id=\"gridTable\"]/table/tbody/tr[33]/td[8]/a[1]/i',\n",
       " '//*[@id=\"gridTable\"]/table/tbody/tr[34]/td[8]/a[1]/i',\n",
       " '//*[@id=\"gridTable\"]/table/tbody/tr[35]/td[8]/a[1]/i',\n",
       " '//*[@id=\"gridTable\"]/table/tbody/tr[36]/td[8]/a[1]/i',\n",
       " '//*[@id=\"gridTable\"]/table/tbody/tr[37]/td[8]/a[1]/i',\n",
       " '//*[@id=\"gridTable\"]/table/tbody/tr[38]/td[8]/a[1]/i',\n",
       " '//*[@id=\"gridTable\"]/table/tbody/tr[39]/td[8]/a[1]/i',\n",
       " '//*[@id=\"gridTable\"]/table/tbody/tr[40]/td[8]/a[1]/i',\n",
       " '//*[@id=\"gridTable\"]/table/tbody/tr[41]/td[8]/a[1]/i',\n",
       " '//*[@id=\"gridTable\"]/table/tbody/tr[42]/td[8]/a[1]/i',\n",
       " '//*[@id=\"gridTable\"]/table/tbody/tr[43]/td[8]/a[1]/i',\n",
       " '//*[@id=\"gridTable\"]/table/tbody/tr[44]/td[8]/a[1]/i',\n",
       " '//*[@id=\"gridTable\"]/table/tbody/tr[45]/td[8]/a[1]/i',\n",
       " '//*[@id=\"gridTable\"]/table/tbody/tr[46]/td[8]/a[1]/i',\n",
       " '//*[@id=\"gridTable\"]/table/tbody/tr[47]/td[8]/a[1]/i',\n",
       " '//*[@id=\"gridTable\"]/table/tbody/tr[48]/td[8]/a[1]/i',\n",
       " '//*[@id=\"gridTable\"]/table/tbody/tr[49]/td[8]/a[1]/i',\n",
       " '//*[@id=\"gridTable\"]/table/tbody/tr[50]/td[8]/a[1]/i']"
      ]
     },
     "execution_count": 183,
     "metadata": {},
     "output_type": "execute_result"
    }
   ],
   "source": [
    "xiazai_list"
   ]
  },
  {
   "cell_type": "code",
   "execution_count": 188,
   "metadata": {},
   "outputs": [],
   "source": [
    "element = driver.find_element_by_xpath('//*[@id=\"gridTable\"]/table/tbody/tr[1]/td[8]/a[1]')\n",
    "element.click()"
   ]
  },
  {
   "cell_type": "code",
   "execution_count": 234,
   "metadata": {},
   "outputs": [],
   "source": [
    "element = driver.find_element_by_xpath('//*[@id=\"vImg\"]')\n",
    "element.click()"
   ]
  },
  {
   "cell_type": "code",
   "execution_count": 232,
   "metadata": {},
   "outputs": [],
   "source": [
    "driver.switch_to.window(driver.window_handles[2])"
   ]
  },
  {
   "cell_type": "code",
   "execution_count": 235,
   "metadata": {},
   "outputs": [
    {
     "data": {
      "text/plain": [
       "'https://kdoc.cnki.net/kdoc/request/ValidateCode.ashx?t=1623825174073'"
      ]
     },
     "execution_count": 235,
     "metadata": {},
     "output_type": "execute_result"
    }
   ],
   "source": [
    "verifycode_image_url = driver.find_element_by_xpath('//*[@id=\"vImg\"]').get_attribute(\"src\")\n",
    "verifycode_image_url"
   ]
  },
  {
   "cell_type": "code",
   "execution_count": 228,
   "metadata": {},
   "outputs": [
    {
     "data": {
      "text/plain": [
       "'24.90d8a46c4879a6812a101faebf9aa97b.2592000.1626417129.282335-23550822'"
      ]
     },
     "execution_count": 228,
     "metadata": {},
     "output_type": "execute_result"
    }
   ],
   "source": [
    "## 百度API\n",
    "import requests \n",
    "\n",
    "# client_id 为官网获取的AK， client_secret 为官网获取的SK\n",
    "host = 'https://aip.baidubce.com/oauth/2.0/token?grant_type=client_credentials&client_id=rs8gBXsBIilUr0cyU3mgfSH3&client_secret=kwXmD5ifMLb0E3cdndwq3XX2WYTKcPMP'\n",
    "response = requests.get(host)\n",
    "if response:\n",
    "#     print(response.json())\n",
    "    \n",
    "    access_token = response.json()[\"access_token\"]\n",
    "access_token"
   ]
  },
  {
   "cell_type": "code",
   "execution_count": 236,
   "metadata": {},
   "outputs": [
    {
     "name": "stdout",
     "output_type": "stream",
     "text": [
      "{'words_result': [{'words': '429F'}], 'log_id': 1405050780938928128, 'words_result_num': 1}\n"
     ]
    }
   ],
   "source": [
    "request_url = \"https://aip.baidubce.com/rest/2.0/ocr/v1/general_basic\"\n",
    "params = {\n",
    "    \"url\":verifycode_image_url\n",
    "}\n",
    "request_url = request_url + \"?access_token=\" + access_token\n",
    "headers = {'content-type': 'application/x-www-form-urlencoded'}\n",
    "response = requests.post(request_url, data=params, headers=headers)\n",
    "response\n",
    "if response:\n",
    "    print (response.json())"
   ]
  },
  {
   "cell_type": "code",
   "execution_count": 237,
   "metadata": {},
   "outputs": [
    {
     "data": {
      "text/plain": [
       "'429F'"
      ]
     },
     "execution_count": 237,
     "metadata": {},
     "output_type": "execute_result"
    }
   ],
   "source": [
    "verifycode=response.json()[\"words_result\"][0][\"words\"]\n",
    "verifycode"
   ]
  },
  {
   "cell_type": "code",
   "execution_count": 226,
   "metadata": {},
   "outputs": [],
   "source": [
    "def baidu_API(verifycode_image_url):\n",
    "    # client_id 为官网获取的AK， client_secret 为官网获取的SK\n",
    "    host = 'https://aip.baidubce.com/oauth/2.0/token?grant_type=client_credentials&client_id=rs8gBXsBIilUr0cyU3mgfSH3&client_secret=kwXmD5ifMLb0E3cdndwq3XX2WYTKcPMP'\n",
    "    response = requests.get(host)\n",
    "    if response:\n",
    "    #     print(response.json())\n",
    "\n",
    "        access_token = response.json()[\"access_token\"]\n",
    "        \n",
    "    request_url = \"https://aip.baidubce.com/rest/2.0/ocr/v1/general_basic\"\n",
    "    params = {\n",
    "        \"url\":verifycode_image_url\n",
    "    }\n",
    "    request_url = request_url + \"?access_token=\" + access_token\n",
    "    headers = {'content-type': 'application/x-www-form-urlencoded'}\n",
    "    response = requests.post(request_url, data=params, headers=headers)\n",
    "    results = response.json()[\"words_result\"][0][\"words\"]\n",
    "    return results"
   ]
  },
  {
   "cell_type": "code",
   "execution_count": 240,
   "metadata": {},
   "outputs": [
    {
     "data": {
      "text/plain": [
       "'KA F'"
      ]
     },
     "execution_count": 240,
     "metadata": {},
     "output_type": "execute_result"
    }
   ],
   "source": [
    "a = baidu_API(verifycode_image_url)\n",
    "a"
   ]
  },
  {
   "cell_type": "markdown",
   "metadata": {},
   "source": [
    "- 由于百度api的识别效果太差了，试了好几个不同的文字和图片识别api，都没能准确的识别出验证码，后面的循环下载每一篇都需要一个验证码，故无法继续进行"
   ]
  },
  {
   "cell_type": "code",
   "execution_count": null,
   "metadata": {},
   "outputs": [],
   "source": [
    "for z in xiazai_list:\n",
    "    driver.find_element_by_xpath(z).click()\n",
    "    time.sleep(2)\n",
    "    driver.switch_to.window(driver.window_handles[2])\n",
    "    verifycode_image_url = driver.find_element_by_xpath('//*[@id=\"vImg\"]').get_attribute(\"src\")\n",
    "    yzm = baidu_API(verifycode_image_url)\n",
    "    driver.find_element_by_xpath('//*[@id=\"vcode\"]').click()\n",
    "    driver.find_element_by_xpath('//*[@id=\"vcode\"]').send_keys(yzm)\n",
    "    driver.find_element_by_xpath('/html/body/div/form/dl/dd/button').click()\n",
    "    driver.close()\n",
    "    time.sleep(1)\n",
    "    driver.switch_to.window(driver.window_handles[1])"
   ]
  }
 ],
 "metadata": {
  "kernelspec": {
   "display_name": "Python 3",
   "language": "python",
   "name": "python3"
  },
  "language_info": {
   "codemirror_mode": {
    "name": "ipython",
    "version": 3
   },
   "file_extension": ".py",
   "mimetype": "text/x-python",
   "name": "python",
   "nbconvert_exporter": "python",
   "pygments_lexer": "ipython3",
   "version": "3.8.3"
  },
  "toc": {
   "base_numbering": 1,
   "nav_menu": {},
   "number_sections": true,
   "sideBar": true,
   "skip_h1_title": false,
   "title_cell": "Table of Contents",
   "title_sidebar": "Contents",
   "toc_cell": false,
   "toc_position": {},
   "toc_section_display": true,
   "toc_window_display": false
  }
 },
 "nbformat": 4,
 "nbformat_minor": 4
}
